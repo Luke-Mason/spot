{
 "cells": [
  {
   "cell_type": "code",
   "execution_count": null,
   "metadata": {},
   "outputs": [],
   "source": [
    "from adabins import InferenceHelper\n",
    "\n",
    "\n",
    "inside_inferHelper = InferenceHelper(dataset='nyu')\n",
    "\n",
    "img = Image.open(\"../resources/pictures/classroom__rgb_00283.jpg\")\n",
    "plt.imshow(img)\n",
    "plt.show()\n",
    "\n",
    "start = time()\n",
    "centers, pred = inside_inferHelper.predict_pil(img)\n",
    "print(f\"took :{time() - start}s\")\n",
    "plt.imshow(pred.squeeze(), cmap='magma_r')\n",
    "plt.show()"
   ]
  }
 ],
 "metadata": {
  "language_info": {
   "name": "python"
  },
  "orig_nbformat": 4
 },
 "nbformat": 4,
 "nbformat_minor": 2
}
